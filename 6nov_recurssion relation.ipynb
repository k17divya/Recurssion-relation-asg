{
 "cells": [
  {
   "cell_type": "code",
   "execution_count": 1,
   "id": "17e06f30-f000-427f-9e7d-bf81ef3d28d1",
   "metadata": {},
   "outputs": [],
   "source": [
    "# Q1\n"
   ]
  },
  {
   "cell_type": "code",
   "execution_count": null,
   "id": "30088b96-f9c1-41c6-bd32-618a132ac9d7",
   "metadata": {},
   "outputs": [],
   "source": [
    "T(n)=3T(n−1)+12n\n",
    "T(1)=3T(1−1)+12(1)=3T(0)+12=3(5)+12=15+12=27\n",
    "T(2)=3T(2−1)+12(2)=3T(1)+24=3(27)+24=81+24=105\n",
    "So, \n",
    "T(2)=105"
   ]
  },
  {
   "cell_type": "code",
   "execution_count": 3,
   "id": "6625b4c6-4d20-4d94-bbfc-5c6aa348c334",
   "metadata": {},
   "outputs": [],
   "source": [
    "# Q2"
   ]
  },
  {
   "cell_type": "code",
   "execution_count": null,
   "id": "c16adc79-6a94-48ed-94af-c28ac6f9c11f",
   "metadata": {},
   "outputs": [],
   "source": [
    "a.\n",
    "T(n)=T((n−1)−1)+c=T(n−2)+c\n",
    "T(n)=T((n−2)−1)+c=T(n−3)+c\n",
    "...\n",
    "T(n)=T(n−k)+kc\n",
    "When n−k=0, then k=n. \n",
    "So,\n",
    "T(n)=T(0)+nc\n",
    "This is the final solution for T(n) in terms of c."
   ]
  },
  {
   "cell_type": "code",
   "execution_count": null,
   "id": "d03ebb9c-5d0b-40f7-8ddd-473396ddd62c",
   "metadata": {},
   "outputs": [],
   "source": [
    "c.\n",
    "T(n)=2T(n/2)+c\n",
    "\n",
    "T(n/2):\n",
    "T(n)=2(T(n/2^2))+c=2^2T(n/2^2)+2c\n",
    "T(n)=2^3(T(n/2^3))+3c\n",
    "...\n",
    "T(n)=2^k(T(n/2^k))+kc\n",
    "\n",
    "When n/2^k=1 (base case), then \n",
    "k=log2 n. So,\n",
    "T(n)=2^log2​nT(1)+c⋅log2​n\n",
    "T(n)=nT(1)+c⋅log 2​n\n",
    "\n",
    "As T(1) is a constant, this is the final solution for T(n) in terms of c and n."
   ]
  },
  {
   "cell_type": "code",
   "execution_count": 7,
   "id": "71f63250-6de2-40b7-ac24-ac68fd8f93f5",
   "metadata": {},
   "outputs": [],
   "source": [
    "# Q3"
   ]
  },
  {
   "cell_type": "code",
   "execution_count": null,
   "id": "f4449249-4baf-447f-a8bf-d5fc1e4888d2",
   "metadata": {},
   "outputs": [],
   "source": [
    "a. T(n)=2T(n−1)+1\n",
    "Starting with T(n):\n",
    "T(n)=2T(n−1)+1\n",
    "T(n−1)=2T(n−2)+1\n",
    "T(n−2)=2T(n−3)+1\n",
    "…\n",
    "T(1)=2T(0)+1"
   ]
  },
  {
   "cell_type": "code",
   "execution_count": null,
   "id": "851bf70b-0689-40a2-bb7f-8336227425e6",
   "metadata": {},
   "outputs": [],
   "source": [
    "              T(n)\n",
    "             /    \\\n",
    "        T(n-1)    1\n",
    "        /    \\\n",
    "   T(n-2)    1\n",
    "     / \\\n",
    "T(n-3) 1\n",
    "  .\n",
    "  .\n",
    "T(1)  1"
   ]
  },
  {
   "cell_type": "code",
   "execution_count": null,
   "id": "ad1582a1-152f-4944-84fa-79657930f906",
   "metadata": {},
   "outputs": [],
   "source": [
    "b.           T(n)\n",
    "         /    \\\n",
    "   T(n/2)      T(n/2)\n",
    "   /   \\        /   \\\n",
    "T(n/4) T(n/4) T(n/4) T(n/4)\n"
   ]
  }
 ],
 "metadata": {
  "kernelspec": {
   "display_name": "Python 3 (ipykernel)",
   "language": "python",
   "name": "python3"
  },
  "language_info": {
   "codemirror_mode": {
    "name": "ipython",
    "version": 3
   },
   "file_extension": ".py",
   "mimetype": "text/x-python",
   "name": "python",
   "nbconvert_exporter": "python",
   "pygments_lexer": "ipython3",
   "version": "3.10.8"
  }
 },
 "nbformat": 4,
 "nbformat_minor": 5
}
